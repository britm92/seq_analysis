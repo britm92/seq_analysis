{
 "cells": [
  {
   "cell_type": "code",
   "execution_count": 77,
   "metadata": {},
   "outputs": [],
   "source": [
    "%matplotlib inline\n",
    "import argparse\n",
    "import pandas as pd\n",
    "import matplotlib\n",
    "import matplotlib.pyplot as plt\n",
    "import numpy as np\n",
    "import seaborn as sns\n",
    "from collections import Counter"
   ]
  },
  {
   "cell_type": "code",
   "execution_count": 78,
   "metadata": {},
   "outputs": [],
   "source": [
    "def readgenome(fasta): #for genes in the '+' orientation, reading would give the NTS (coding)\n",
    "    genome=\"\"\n",
    "    with open(fasta,\"r\") as file1:\n",
    "        for line in file1:\n",
    "            if line.startswith(\">\"):\n",
    "                pass\n",
    "            else:\n",
    "                genome=genome+''.join(line.rstrip())\n",
    "   \n",
    "   \n",
    "    return genome\n",
    "\n",
    "def complement(gene): #for genes in the '+' orientation, the complement genome would give the TS \n",
    "    code={\"A\":\"T\",\"T\":\"A\",\"G\":\"C\",\"C\":\"G\"}\n",
    "    minus_strand=\"\"\n",
    "    for nuc in gene:\n",
    "        minus_strand=minus_strand+code[nuc]\n",
    "    return minus_strand"
   ]
  },
  {
   "cell_type": "code",
   "execution_count": 79,
   "metadata": {},
   "outputs": [],
   "source": [
    "plus_genome=complement(readgenome(\"U00096.3.fa\")) #I am calling the compliment genome plus (plus would refer to TS of plus genes)\n",
    "minus_genome=readgenome(\"U00096.3.fa\") #the minus is the original read-in and would refer to the TS of minus genes"
   ]
  },
  {
   "cell_type": "code",
   "execution_count": 80,
   "metadata": {},
   "outputs": [],
   "source": [
    "#the files here were made with pos_count.py script and alignment bedfiles\n",
    "p_data=pd.read_csv('2020-06-25_CPDseq/p_data_df',index_col=0).to_dict()\n",
    "m_data=pd.read_csv('2020-06-25_CPDseq/m_data_df',index_col=0).to_dict()"
   ]
  },
  {
   "cell_type": "code",
   "execution_count": 81,
   "metadata": {},
   "outputs": [],
   "source": [
    "def count_TT(seq):\n",
    "    count=0\n",
    "    for i in range(len(seq)-1):\n",
    "        if seq[i:i+2]=='TT':\n",
    "            count=count+1\n",
    "        i=i+2\n",
    "    return count\n",
    "\n",
    "def select_reg(d,coord):\n",
    "    gene_dict={}\n",
    "    for i in range(coord[0],coord[1]):\n",
    "        if i in d:\n",
    "            gene_dict[i]=d[i]\n",
    "        else:\n",
    "            gene_dict[i]=0\n",
    "    return gene_dict\n",
    "\n",
    "\n",
    "def calc_sum(c,p_data,m_data,strand):\n",
    "    r_dict={}\n",
    "    #nts_dict={}\n",
    "    for key in p_data:          \n",
    "        m_tt=count_TT(minus_genome[c[0]:c[1]])\n",
    "        p_tt=count_TT(plus_genome[c[0]:c[1]])\n",
    "        p_strand=select_reg(p_data[key],c)\n",
    "        m_strand=select_reg(m_data[key],c)\n",
    "        if m_tt > 0 and p_tt > 0:\n",
    "            if strand == '-':\n",
    "                ts=sum(m_strand.values())/m_tt\n",
    "                nts=sum(p_strand.values())/p_tt\n",
    "                r_dict[key]=(ts,nts)\n",
    "                #nts_dict[key]=nts\n",
    "            else:\n",
    "                ts=sum(p_strand.values())/p_tt\n",
    "                nts=sum(m_strand.values())/m_tt\n",
    "                r_dict[key]=(ts,nts)\n",
    "                #nts_dict[key]=nts\n",
    "    return r_dict\n",
    "\n",
    "def add_lis(lis1,lis2):\n",
    "    sum_lis=[]\n",
    "    for i in range(len(lis1)):\n",
    "        n=lis1[i]+lis2[i]\n",
    "        sum_lis.append(n)\n",
    "    return sum_lis\n",
    "    "
   ]
  },
  {
   "cell_type": "code",
   "execution_count": null,
   "metadata": {},
   "outputs": [],
   "source": []
  },
  {
   "cell_type": "code",
   "execution_count": null,
   "metadata": {},
   "outputs": [],
   "source": []
  },
  {
   "cell_type": "code",
   "execution_count": 82,
   "metadata": {},
   "outputs": [],
   "source": [
    "final_dict={}          #gene is split into 6 sections and for each sample the total amount of damage is determined for that section\n",
    "bedfile='U00096.3.gtf'\n",
    "with open(bedfile,'r') as file1:\n",
    "    for line in file1:\n",
    "        l=line.split()\n",
    "        gene=l[8].split(';')[4].split('=')[1]\n",
    "        strand=l[6]\n",
    "        \n",
    "        ar=np.array(range(int(l[3]),int(l[4])))\n",
    "      \n",
    "        split=np.array_split(ar,4)\n",
    "        total_lis=[]\n",
    "        for sec in split:\n",
    "            c=(sec[0],sec[-1])\n",
    "            total=calc_sum(c,p_data,m_data,strand)\n",
    "            total_lis.append(total)\n",
    "        if strand == '-':\n",
    "            total_lis=total_lis[::-1]\n",
    "        final_dict[gene]=total_lis\n",
    "\n",
    "r_dict={}              #restructuring dictionary do that each sample holds list of section values\n",
    "for gene in final_dict:\n",
    "    new={}\n",
    "    new2={}\n",
    "    for d in final_dict[gene]:\n",
    "        for sample in d:\n",
    "            if sample not in new:\n",
    "                new[sample]=[d[sample]]\n",
    "            else:\n",
    "            \n",
    "                lis=new[sample]\n",
    "                lis.append(d[sample])\n",
    "                new2[sample]=lis\n",
    "    \n",
    "    r_dict[gene]=new2"
   ]
  },
  {
   "cell_type": "code",
   "execution_count": 83,
   "metadata": {},
   "outputs": [],
   "source": [
    "filter_file='high_NTS_end_5'\n",
    "df=pd.DataFrame(r_dict).transpose()\n",
    "gene_df=pd.read_csv(filter_file,index_col=1)#filter to certain genes\n",
    "gene_df=gene_df.iloc[:,:0]\n",
    "df=df.loc[df.index.isin(gene_df.index)]\n",
    "df=df.dropna()\n",
    "final_df=df.to_dict()"
   ]
  },
  {
   "cell_type": "code",
   "execution_count": 84,
   "metadata": {},
   "outputs": [
    {
     "data": {
      "text/html": [
       "<div>\n",
       "<style scoped>\n",
       "    .dataframe tbody tr th:only-of-type {\n",
       "        vertical-align: middle;\n",
       "    }\n",
       "\n",
       "    .dataframe tbody tr th {\n",
       "        vertical-align: top;\n",
       "    }\n",
       "\n",
       "    .dataframe thead th {\n",
       "        text-align: right;\n",
       "    }\n",
       "</style>\n",
       "<table border=\"1\" class=\"dataframe\">\n",
       "  <thead>\n",
       "    <tr style=\"text-align: right;\">\n",
       "      <th></th>\n",
       "    </tr>\n",
       "    <tr>\n",
       "      <th>Gene name</th>\n",
       "    </tr>\n",
       "  </thead>\n",
       "  <tbody>\n",
       "    <tr>\n",
       "      <th>aaeX</th>\n",
       "    </tr>\n",
       "    <tr>\n",
       "      <th>abgB</th>\n",
       "    </tr>\n",
       "    <tr>\n",
       "      <th>acrD</th>\n",
       "    </tr>\n",
       "    <tr>\n",
       "      <th>adiA</th>\n",
       "    </tr>\n",
       "    <tr>\n",
       "      <th>adiC</th>\n",
       "    </tr>\n",
       "    <tr>\n",
       "      <th>...</th>\n",
       "    </tr>\n",
       "    <tr>\n",
       "      <th>ytiA</th>\n",
       "    </tr>\n",
       "    <tr>\n",
       "      <th>ytjC</th>\n",
       "    </tr>\n",
       "    <tr>\n",
       "      <th>yzfA</th>\n",
       "    </tr>\n",
       "    <tr>\n",
       "      <th>yzgL</th>\n",
       "    </tr>\n",
       "    <tr>\n",
       "      <th>zitB</th>\n",
       "    </tr>\n",
       "  </tbody>\n",
       "</table>\n",
       "<p>232 rows × 0 columns</p>\n",
       "</div>"
      ],
      "text/plain": [
       "Empty DataFrame\n",
       "Columns: []\n",
       "Index: [aaeX, abgB, acrD, adiA, adiC, aes, aidB, alsK, arfA, arnB, arnE, arnF, arpA, asr, bcsG, bglJ, blc, cbeA, cbtA, citD, citE, citX, clcB, dcuD, ddpF, ddpX, dgcC, dgcE, dgoT, djlB, dkgB, dosP, elyC, envR, eutB, eutE, fepE, fhlA, fhuB, flgN, flu, focB, folM, glcA, gspC, gspE, gspF, hemY, hslJ, hyaA, hyfG, insA-4, insB-1, insB-3, insB-4, insB-5, insB9, insF-4, insF-5, insG, insL-2, intD, iprA, iraD, kch, ligB, lysA, lysR, mbiA, mdtF, metR, mltF, mntP, mtgA, mtlR, nadB, norR, opgC, oxyR, phnF, phnG, phnK, phoE, php, pphA, prkB, prpB, ptrB, purD, rcsA, rhaM, rhaR, rspB, rtcR, rutB, rutC, rutD, ryfA, rzpD, sfmC, ...]\n",
       "\n",
       "[232 rows x 0 columns]"
      ]
     },
     "execution_count": 84,
     "metadata": {},
     "output_type": "execute_result"
    }
   ],
   "source": [
    "gene_df"
   ]
  },
  {
   "cell_type": "code",
   "execution_count": null,
   "metadata": {},
   "outputs": [],
   "source": []
  },
  {
   "cell_type": "code",
   "execution_count": 85,
   "metadata": {},
   "outputs": [],
   "source": [
    "ts_sum_dict={} #add the list across all genes to have one final sum_lis for each sample \n",
    "nts_sum_dict={}\n",
    "\n",
    "for sample in final_df:\n",
    "    ts_sum_lis=[]\n",
    "    nts_sum_lis=[]\n",
    "    for gene in final_df[sample]:\n",
    "        if type(final_df[sample][gene])==list:\n",
    "            if len(final_df[sample][gene])==4:\n",
    "                if ts_sum_lis:\n",
    "                    ts_lis,nts_lis=zip(*final_df[sample][gene])\n",
    "                    ts_lis1=list(ts_lis)\n",
    "                    nts_lis1=list(nts_lis)\n",
    "                   \n",
    "                    ts_lis2=ts_sum_lis\n",
    "                    nts_lis2=nts_sum_lis\n",
    "                    ts_sum_lis=add_lis(ts_lis1,ts_lis2)\n",
    "                    nts_sum_lis=add_lis(nts_lis1,nts_lis2)\n",
    "                else:\n",
    "                    ts_lis,nts_lis=zip(*final_df[sample][gene])\n",
    "                    ts_sum_lis=list(ts_lis)\n",
    "                    nts_sum_lis=list(nts_lis)\n",
    "    ts_sum_dict[sample]=ts_sum_lis\n",
    "    nts_sum_dict[sample]=nts_sum_lis"
   ]
  },
  {
   "cell_type": "code",
   "execution_count": 86,
   "metadata": {},
   "outputs": [],
   "source": [
    "ts_final_df=pd.DataFrame(ts_sum_dict)\n",
    "nts_final_df=pd.DataFrame(nts_sum_dict)"
   ]
  },
  {
   "cell_type": "code",
   "execution_count": 102,
   "metadata": {},
   "outputs": [],
   "source": [
    "ts_final_df.to_csv('2020-06-25_CPDseq/'+filter_file+'_TS_df') #save files to csv, ID based on filter_file provided\n",
    "nts_final_df.to_csv('2020-06-25_CPDseq/'+filter_file+'_NTS_df')"
   ]
  },
  {
   "cell_type": "code",
   "execution_count": 89,
   "metadata": {},
   "outputs": [],
   "source": [
    "ts_final_df=ts_final_df/232\n",
    "nts_final_df=nts_final_df/232"
   ]
  },
  {
   "cell_type": "code",
   "execution_count": 90,
   "metadata": {},
   "outputs": [],
   "source": [
    "joined_df=ts_final_df.join(nts_final_df,lsuffix='_TS',rsuffix='_NTS')"
   ]
  },
  {
   "cell_type": "code",
   "execution_count": 91,
   "metadata": {},
   "outputs": [],
   "source": [
    "label_dict={'bm01':'wt NT',\n",
    "            'bm02':'wt 0',\n",
    "            'bm03':'wt 10',\n",
    "            'bm04':'wt 20',\n",
    "            'bm05':'wt 30',\n",
    "            'bm06':'wt 40',\n",
    "            'bm07':'mfd NT',\n",
    "            'bm08':'mfd 0',\n",
    "            'bm09':'mfd 10',\n",
    "            'bm10':'mfd 20',\n",
    "            'bm11':'mfd 30',\n",
    "            'bm12':'mfd 40',\n",
    "            'bm13':'D210G NT',\n",
    "            'bm14':'D210G 0',\n",
    "            'bm15':'D210G 10',\n",
    "            'bm16':'D210G 20',\n",
    "            'bm17':'D210G 30',\n",
    "            'bm18':'D210G 40',\n",
    "            'bm19':'L187R NT',\n",
    "            'bm20':'L187R 0',\n",
    "            'bm21':'L187R 10',\n",
    "            'bm22':'L187R 20',\n",
    "            'bm23':'L187R 30',\n",
    "            'bm24':'L187R 40'}\n",
    "norm_dict={'bm01':9151942,\n",
    "           'bm02':10811640,\n",
    "           'bm03':8798072,\n",
    "           'bm04':10729975,\n",
    "           'bm05':9861146,\n",
    "           'bm06':9173308,\n",
    "           'bm07':10126351,\n",
    "           'bm08':11049652,\n",
    "           'bm09':10774184,\n",
    "           'bm10':11381834,\n",
    "           'bm11':10681688,\n",
    "           'bm12':9912594,\n",
    "           'bm13':9866758,\n",
    "           'bm14':11044634,\n",
    "           'bm15':10038700,\n",
    "           'bm16':12919112,\n",
    "           'bm17':10206186,\n",
    "           'bm18':10161969,\n",
    "           'bm19':10899062,\n",
    "           'bm20':11521524,\n",
    "           'bm21':15445725,\n",
    "           'bm22':12503461,\n",
    "           'bm23':10330716,\n",
    "           'bm24':16988854}"
   ]
  },
  {
   "cell_type": "code",
   "execution_count": 92,
   "metadata": {},
   "outputs": [],
   "source": [
    "sub_df=joined_df.loc[:,['bm02_TS','bm02_NTS','bm03_TS','bm03_NTS']]"
   ]
  },
  {
   "cell_type": "code",
   "execution_count": 70,
   "metadata": {},
   "outputs": [],
   "source": [
    "sub_df=joined_df.loc[:,['bm08_TS','bm08_NTS','bm09_TS','bm09_NTS','bm10_TS','bm10_NTS']]"
   ]
  },
  {
   "cell_type": "code",
   "execution_count": 72,
   "metadata": {},
   "outputs": [],
   "source": [
    "sub_df=joined_df.loc[:,['bm20_TS','bm20_NTS','bm21_TS','bm21_NTS','bm22_TS','bm22_NTS']]"
   ]
  },
  {
   "cell_type": "code",
   "execution_count": 93,
   "metadata": {},
   "outputs": [
    {
     "data": {
      "text/plain": [
       "Text(0, 0.5, 'Average CPD Total')"
      ]
     },
     "execution_count": 93,
     "metadata": {},
     "output_type": "execute_result"
    },
    {
     "data": {
      "image/png": "[encoded data removed]",
      "text/plain": [
       "<Figure size 316.8x194.4 with 1 Axes>"
      ]
     },
     "metadata": {},
     "output_type": "display_data"
    }
   ],
   "source": [
    "plt.rc('xtick',labelsize=12)\n",
    "plt.rc('ytick',labelsize=12)\n",
    "sns.set_style(\"whitegrid\")\n",
    "#sns.set_context(\"paper\")\n",
    "plt.figure(figsize=(4.4,2.7))\n",
    "T=np.array(list(sub_df.index))\n",
    "for sample in  list(sub_df.columns):\n",
    "    y=sub_df[sample].tolist()\n",
    "    y=[(x / norm_dict[sample[0:4]])*1000000 for x in y]\n",
    "    if sample[5:7]=='TS':\n",
    "        marker='o'\n",
    "        line='-'\n",
    "    else:\n",
    "        marker='x'\n",
    "        line='--'\n",
    "    \n",
    "    if label_dict[sample[0:4]].split()[1]=='0':\n",
    "        color='blue'\n",
    "    if label_dict[sample[0:4]].split()[1]=='10':\n",
    "        color='orange'\n",
    "    if label_dict[sample[0:4]].split()[1]=='20':\n",
    "        color='black'\n",
    "    if label_dict[sample[0:4]].split()[1]=='30':\n",
    "        color='red'\n",
    "    if label_dict[sample[0:4]].split()[1]=='40':\n",
    "        color='purple'\n",
    "    \n",
    "    plt.plot(T,y,label=label_dict[sample[0:4]]+' '+sample[5:7],marker=marker,color=color,linestyle=line,linewidth=2,markersize=5)\n",
    "plt.legend([\"0 TS\", \"0 NTS\",\"10 TS\",\"10 NTS\"],bbox_to_anchor=(1., 1), loc=2, borderaxespad=0.,fontsize=12,fancybox=True)\n",
    "#plt.axvline(x=49,linewidth=2, color='k')#plt.ylim(0,12)\n",
    "plt.margins(x=0.02)\n",
    "#plt.ylim(30,58)\n",
    "\n",
    "\n",
    "sns.despine(top=True, right=True, left=False, bottom=False)\n",
    "\n",
    "plt.ylabel('Average CPD Total',fontsize=14)\n",
    "#plt.savefig('end_gene_highNTS.png',transparent=True,bbox_inches='tight',dpi=600)"
   ]
  },
  {
   "cell_type": "code",
   "execution_count": 95,
   "metadata": {},
   "outputs": [
    {
     "data": {
      "text/html": [
       "<div>\n",
       "<style scoped>\n",
       "    .dataframe tbody tr th:only-of-type {\n",
       "        vertical-align: middle;\n",
       "    }\n",
       "\n",
       "    .dataframe tbody tr th {\n",
       "        vertical-align: top;\n",
       "    }\n",
       "\n",
       "    .dataframe thead th {\n",
       "        text-align: right;\n",
       "    }\n",
       "</style>\n",
       "<table border=\"1\" class=\"dataframe\">\n",
       "  <thead>\n",
       "    <tr style=\"text-align: right;\">\n",
       "      <th></th>\n",
       "      <th>bm02_TS</th>\n",
       "      <th>bm02_NTS</th>\n",
       "      <th>bm03_TS</th>\n",
       "      <th>bm03_NTS</th>\n",
       "      <th>bm04_TS</th>\n",
       "      <th>bm04_NTS</th>\n",
       "    </tr>\n",
       "  </thead>\n",
       "  <tbody>\n",
       "    <tr>\n",
       "      <th>0</th>\n",
       "      <td>670.691149</td>\n",
       "      <td>849.725000</td>\n",
       "      <td>517.746435</td>\n",
       "      <td>848.350000</td>\n",
       "      <td>494.318559</td>\n",
       "      <td>849.225000</td>\n",
       "    </tr>\n",
       "    <tr>\n",
       "      <th>1</th>\n",
       "      <td>638.651267</td>\n",
       "      <td>376.961538</td>\n",
       "      <td>505.500666</td>\n",
       "      <td>375.807692</td>\n",
       "      <td>464.687904</td>\n",
       "      <td>375.576923</td>\n",
       "    </tr>\n",
       "    <tr>\n",
       "      <th>2</th>\n",
       "      <td>670.781094</td>\n",
       "      <td>1413.200000</td>\n",
       "      <td>514.758788</td>\n",
       "      <td>1415.400000</td>\n",
       "      <td>479.856171</td>\n",
       "      <td>1415.400000</td>\n",
       "    </tr>\n",
       "  </tbody>\n",
       "</table>\n",
       "</div>"
      ],
      "text/plain": [
       "      bm02_TS     bm02_NTS     bm03_TS     bm03_NTS     bm04_TS     bm04_NTS\n",
       "0  670.691149   849.725000  517.746435   848.350000  494.318559   849.225000\n",
       "1  638.651267   376.961538  505.500666   375.807692  464.687904   375.576923\n",
       "2  670.781094  1413.200000  514.758788  1415.400000  479.856171  1415.400000"
      ]
     },
     "execution_count": 95,
     "metadata": {},
     "output_type": "execute_result"
    }
   ],
   "source": [
    "sub_df"
   ]
  },
  {
   "cell_type": "code",
   "execution_count": 71,
   "metadata": {},
   "outputs": [
    {
     "data": {
      "text/plain": [
       "Text(0, 0.5, 'Average CPD Total')"
      ]
     },
     "execution_count": 71,
     "metadata": {},
     "output_type": "execute_result"
    },
    {
     "data": {
      "image/png": "[encoded data removed]",
      "text/plain": [
       "<Figure size 576x288 with 1 Axes>"
      ]
     },
     "metadata": {},
     "output_type": "display_data"
    }
   ],
   "source": [
    "plt.rc('xtick',labelsize=15)\n",
    "plt.rc('ytick',labelsize=15)\n",
    "sns.set_style(\"whitegrid\")\n",
    "#sns.set_context(\"paper\")\n",
    "plt.figure(figsize=(8,4))\n",
    "T=np.array(list(sub_df.index))\n",
    "for sample in  list(sub_df.columns):\n",
    "    y=sub_df[sample].tolist()\n",
    "    y=[(x / norm_dict[sample[0:4]])*1000000 for x in y]\n",
    "    if sample[5:7]=='TS':\n",
    "        marker='o'\n",
    "        line='-'\n",
    "    else:\n",
    "        marker='x'\n",
    "        line='--'\n",
    "    \n",
    "    if label_dict[sample[0:4]].split()[1]=='0':\n",
    "        color='blue'\n",
    "    if label_dict[sample[0:4]].split()[1]=='10':\n",
    "        color='orange'\n",
    "    if label_dict[sample[0:4]].split()[1]=='20':\n",
    "        color='black'\n",
    "    if label_dict[sample[0:4]].split()[1]=='30':\n",
    "        color='red'\n",
    "    if label_dict[sample[0:4]].split()[1]=='40':\n",
    "        color='purple'\n",
    "    \n",
    "    plt.plot(T,y,label=label_dict[sample[0:4]]+' '+sample[5:7],marker=marker,color=color,linestyle=line,linewidth=1.5)\n",
    "plt.legend(bbox_to_anchor=(1.05, 1), loc=2, borderaxespad=0.,fontsize=15)\n",
    "#plt.axvline(x=49,linewidth=2, color='k')\n",
    "plt.ylim(30,58)\n",
    "plt.margins(x=0.02)\n",
    "plt.ylabel('Frequency',fontsize=20)\n",
    "\n",
    "sns.despine(top=True, right=True, left=False, bottom=False)\n",
    "\n",
    "plt.ylabel('Average CPD Total')\n",
    "#plt.savefig('bin4_hightranscribed.pdf',transparent=True,bbox_inches='tight')"
   ]
  },
  {
   "cell_type": "code",
   "execution_count": 73,
   "metadata": {},
   "outputs": [
    {
     "data": {
      "text/plain": [
       "Text(0, 0.5, 'Average CPD Total')"
      ]
     },
     "execution_count": 73,
     "metadata": {},
     "output_type": "execute_result"
    },
    {
     "data": {
      "image/png": "[encoded data removed]",
      "text/plain": [
       "<Figure size 576x288 with 1 Axes>"
      ]
     },
     "metadata": {},
     "output_type": "display_data"
    }
   ],
   "source": [
    "plt.rc('xtick',labelsize=15)\n",
    "plt.rc('ytick',labelsize=15)\n",
    "sns.set_style(\"whitegrid\")\n",
    "#sns.set_context(\"paper\")\n",
    "plt.figure(figsize=(8,4))\n",
    "T=np.array(list(sub_df.index))\n",
    "for sample in  list(sub_df.columns):\n",
    "    y=sub_df[sample].tolist()\n",
    "    y=[(x / norm_dict[sample[0:4]])*1000000 for x in y]\n",
    "    if sample[5:7]=='TS':\n",
    "        marker='o'\n",
    "        line='-'\n",
    "    else:\n",
    "        marker='x'\n",
    "        line='--'\n",
    "    \n",
    "    if label_dict[sample[0:4]].split()[1]=='0':\n",
    "        color='blue'\n",
    "    if label_dict[sample[0:4]].split()[1]=='10':\n",
    "        color='orange'\n",
    "    if label_dict[sample[0:4]].split()[1]=='20':\n",
    "        color='black'\n",
    "    if label_dict[sample[0:4]].split()[1]=='30':\n",
    "        color='red'\n",
    "    if label_dict[sample[0:4]].split()[1]=='40':\n",
    "        color='purple'\n",
    "    \n",
    "    plt.plot(T,y,label=label_dict[sample[0:4]]+' '+sample[5:7],marker=marker,color=color,linestyle=line,linewidth=1.5)\n",
    "plt.legend(bbox_to_anchor=(1.05, 1), loc=2, borderaxespad=0.,fontsize=15)\n",
    "#plt.axvline(x=49,linewidth=2, color='k')\n",
    "plt.ylim(30,58)\n",
    "plt.margins(x=0.02)\n",
    "plt.ylabel('Frequency',fontsize=20)\n",
    "\n",
    "sns.despine(top=True, right=True, left=False, bottom=False)\n",
    "\n",
    "plt.ylabel('Average CPD Total')\n",
    "#plt.savefig('bin4_hightranscribed.pdf',transparent=True,bbox_inches='tight')"
   ]
  },
  {
   "cell_type": "code",
   "execution_count": null,
   "metadata": {},
   "outputs": [],
   "source": []
  }
 ],
 "metadata": {
  "kernelspec": {
   "display_name": "Python 3",
   "language": "python",
   "name": "python3"
  },
  "language_info": {
   "codemirror_mode": {
    "name": "ipython",
    "version": 3
   },
   "file_extension": ".py",
   "mimetype": "text/x-python",
   "name": "python",
   "nbconvert_exporter": "python",
   "pygments_lexer": "ipython3",
   "version": "3.7.4"
  }
 },
 "nbformat": 4,
 "nbformat_minor": 2
}
