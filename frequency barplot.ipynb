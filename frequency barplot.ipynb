{
 "cells": [
  {
   "cell_type": "code",
   "execution_count": 1,
   "metadata": {},
   "outputs": [],
   "source": [
    "import matplotlib.pyplot as plt\n",
    "import pandas as pd\n",
    "import numpy as np\n",
    "import scipy.stats\n",
    "from matplotlib import rc\n",
    "import seaborn as sns\n",
    "rc('font',**{'family':'serif','serif':['Arial']})\n",
    "plt.rcParams['pdf.fonttype'] = 42"
   ]
  },
  {
   "cell_type": "code",
   "execution_count": 129,
   "metadata": {},
   "outputs": [],
   "source": [
    "#60J\n",
    "df=pd.read_csv('2020-07-13_CPDseq/freq_df.csv',index_col=0)\n"
   ]
  },
  {
   "cell_type": "code",
   "execution_count": 91,
   "metadata": {},
   "outputs": [],
   "source": [
    "#240J\n",
    "df=pd.read_csv('2019-09-12_CPDseq/freq_df.csv',index_col=0)\n"
   ]
  },
  {
   "cell_type": "code",
   "execution_count": 130,
   "metadata": {},
   "outputs": [],
   "source": [
    "df=df.loc[['TT','TC','CT','CC','CG','GA','AA','AG','GT','TA','AC','TG','GC','AT','CA','GG']]\n"
   ]
  },
  {
   "cell_type": "code",
   "execution_count": 131,
   "metadata": {},
   "outputs": [
    {
     "name": "stderr",
     "output_type": "stream",
     "text": [
      "/Users/britney/miniconda3/lib/python3.7/site-packages/ipykernel_launcher.py:3: SettingWithCopyWarning: \n",
      "A value is trying to be set on a copy of a slice from a DataFrame.\n",
      "Try using .loc[row_indexer,col_indexer] = value instead\n",
      "\n",
      "See the caveats in the documentation: http://pandas.pydata.org/pandas-docs/stable/user_guide/indexing.html#returning-a-view-versus-a-copy\n",
      "  This is separate from the ipykernel package so we can avoid doing imports until\n"
     ]
    }
   ],
   "source": [
    "\n",
    "df_T=df.T\n",
    "sub_df=df_T.iloc[:,:4]\n",
    "sub_df['Non-CPD']=df_T.iloc[:,4:].mean(axis=1)\n",
    "sub_df_T=sub_df.T\n"
   ]
  },
  {
   "cell_type": "code",
   "execution_count": 8,
   "metadata": {},
   "outputs": [],
   "source": []
  },
  {
   "cell_type": "code",
   "execution_count": 136,
   "metadata": {},
   "outputs": [
    {
     "data": {
      "image/png": "[encoded data removed]",
      "text/plain": [
       "<Figure size 288x165.6 with 1 Axes>"
      ]
     },
     "metadata": {
      "needs_background": "light"
     },
     "output_type": "display_data"
    }
   ],
   "source": [
    "#colors=['orange','b']*3\n",
    "\n",
    "ax=sub_df_T[['bm01','bm02','bm03','bm04']].plot.bar(figsize=(4,2.3),ylim=(0,0.2),colormap='YlGnBu_r',edgecolor='black')\n",
    "ax.legend([\"WT NT\", \"WT 0\",\"WT 20\",\"WT 30\"],fontsize=12,fancybox=True,loc='upper right')\n",
    "plt.ylabel('Frequency',fontsize=14)\n",
    "plt.ylim(0,0.2)\n",
    "plt.title(r'60 J/m$^2$',fontsize=14)\n",
    "\n",
    "\n",
    "ax.tick_params(axis='both', which='major', labelsize=12,rotation=0)\n",
    "\n",
    "#plt.savefig('WT_60_freq_cpd_avgnoncpd_2.png',transparent=True,bbox_inches='tight',dpi=600)\n",
    "#fig.get_dpi()"
   ]
  },
  {
   "cell_type": "code",
   "execution_count": 20,
   "metadata": {},
   "outputs": [],
   "source": []
  },
  {
   "cell_type": "code",
   "execution_count": null,
   "metadata": {},
   "outputs": [],
   "source": []
  },
  {
   "cell_type": "code",
   "execution_count": null,
   "metadata": {},
   "outputs": [],
   "source": []
  },
  {
   "cell_type": "code",
   "execution_count": null,
   "metadata": {},
   "outputs": [],
   "source": []
  }
 ],
 "metadata": {
  "kernelspec": {
   "display_name": "Python 3",
   "language": "python",
   "name": "python3"
  },
  "language_info": {
   "codemirror_mode": {
    "name": "ipython",
    "version": 3
   },
   "file_extension": ".py",
   "mimetype": "text/x-python",
   "name": "python",
   "nbconvert_exporter": "python",
   "pygments_lexer": "ipython3",
   "version": "3.7.4"
  }
 },
 "nbformat": 4,
 "nbformat_minor": 2
}
