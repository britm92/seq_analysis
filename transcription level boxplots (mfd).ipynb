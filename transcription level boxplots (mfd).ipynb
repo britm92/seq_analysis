{
 "cells": [
  {
   "cell_type": "code",
   "execution_count": 1,
   "metadata": {},
   "outputs": [],
   "source": [
    "import matplotlib.pyplot as plt\n",
    "import pandas as pd\n",
    "import numpy as np\n",
    "import scipy.stats\n",
    "from matplotlib import rc\n",
    "import seaborn as sns\n",
    "rc('font',**{'family':'serif','serif':['Arial']})\n",
    "plt.rcParams['pdf.fonttype'] = 42"
   ]
  },
  {
   "cell_type": "code",
   "execution_count": 2,
   "metadata": {},
   "outputs": [],
   "source": [
    "# dataframe with percent change values at each timepoint\n",
    "pc_df=pd.read_csv('2020-02-21_CPDseq/pc_df_TTgreaterthan5',index_col=0)\n",
    "#pc_df=pc_df[pc_df>-0.2]\n",
    "# RNA-Seq RPKMs\n",
    "TS_rpkm=pd.read_csv('2018-05-22_RNAseq/TS_rpkm.csv',index_col=0)\n",
    "NTS_rpkm=pd.read_csv('2018-05-22_RNAseq/NTS_rpkm.csv',index_col=0)\n",
    "# combine all data into one dataframe\n",
    "joined1=pc_df.join(TS_rpkm)\n",
    "joined2=joined1.join(NTS_rpkm)\n"
   ]
  },
  {
   "cell_type": "code",
   "execution_count": 3,
   "metadata": {},
   "outputs": [],
   "source": [
    "pc_df2=pd.read_csv('2020-07-13_CPDseq/pc_df_TTgreaterthan5',index_col=0)\n",
    "#pc_df2=pc_df2[pc_df2>-0.2].dropna()"
   ]
  },
  {
   "cell_type": "code",
   "execution_count": 4,
   "metadata": {},
   "outputs": [],
   "source": [
    "pc_df3=pd.read_csv('2020-08-19_CPDseq/pc_df_TTgreaterthan5',index_col=0)"
   ]
  },
  {
   "cell_type": "code",
   "execution_count": 5,
   "metadata": {},
   "outputs": [],
   "source": [
    "joined_pc_df=pc_df.join(pc_df2).dropna()\n",
    "final_joined=pc_df3.join(joined_pc_df,lsuffix='1',rsuffix='2').dropna()"
   ]
  },
  {
   "cell_type": "code",
   "execution_count": 46,
   "metadata": {},
   "outputs": [
    {
     "data": {
      "text/plain": [
       "Index(['wt-p_20_TS1', 'wt-p_20_NTS1', 'wt-p_30_TS1', 'wt-p_30_NTS1',\n",
       "       'wtcm-p_20_TS', 'wtcm-p_20_NTS', 'wtcm-p_30_TS', 'wtcm-p_30_NTS',\n",
       "       'wtcmbcm_20_TS', 'wtcmbcm_20_NTS', 'wtcmbcm_30_TS', 'wtcmbcm_30_NTS',\n",
       "       'wtbcm_20_TS', 'wtbcm_20_NTS', 'wtbcm_30_TS', 'wtbcm_30_NTS',\n",
       "       'lexa3_20_TS', 'lexa3_20_NTS', 'lexa3_30_TS', 'lexa3_30_NTS',\n",
       "       'wt_10_TS', 'wt_10_NTS', 'wt_20_TS', 'wt_20_NTS', 'wt_30_TS',\n",
       "       'wt_30_NTS', 'wt_40_TS', 'wt_40_NTS', 'wtrif_10_TS', 'wtrif_10_NTS',\n",
       "       'wtrif_20_TS', 'wtrif_20_NTS', 'wtrif_30_TS', 'wtrif_30_NTS',\n",
       "       'wtrif_40_TS', 'wtrif_40_NTS', 'mfd_10_TS', 'mfd_10_NTS', 'mfd_20_TS',\n",
       "       'mfd_20_NTS', 'mfd_30_TS', 'mfd_30_NTS', 'mfd_40_TS', 'mfd_40_NTS',\n",
       "       'mfdrif_10_TS', 'mfdrif_10_NTS', 'mfdrif_20_TS', 'mfdrif_20_NTS',\n",
       "       'mfdrif_30_TS', 'mfdrif_30_NTS', 'mfdrif_40_TS', 'mfdrif_40_NTS',\n",
       "       'wt-p_20_TS2', 'wt-p_20_NTS2', 'wt-p_30_TS2', 'wt-p_30_NTS2',\n",
       "       'mfd-p_20_TS', 'mfd-p_20_NTS', 'mfd-p_30_TS', 'mfd-p_30_NTS',\n",
       "       'wt+p_20_TS', 'wt+p_20_NTS', 'wt+p_30_TS', 'wt+p_30_NTS', 'mfd+p_20_TS',\n",
       "       'mfd+p_20_NTS', 'mfd+p_30_TS', 'mfd+p_30_NTS', 'rho15_20_TS',\n",
       "       'rho15_20_NTS', 'rho15_30_TS', 'rho15_30_NTS', 'L187R_20_TS',\n",
       "       'L187R_20_NTS', 'L187R_30_TS', 'L187R_30_NTS'],\n",
       "      dtype='object')"
      ]
     },
     "execution_count": 46,
     "metadata": {},
     "output_type": "execute_result"
    }
   ],
   "source": [
    "final_joined.columns"
   ]
  },
  {
   "cell_type": "code",
   "execution_count": 6,
   "metadata": {},
   "outputs": [],
   "source": [
    "sub_20=final_joined.loc[:,['wt-p_20_TS1','wt-p_20_NTS1','mfd_20_TS','mfd_20_NTS']]\n",
    "sub_20.columns=['WT_20_TS','WT_20_NTS','mfd(-)_20_TS','mfd(-)_20_NTS']"
   ]
  },
  {
   "cell_type": "code",
   "execution_count": 7,
   "metadata": {},
   "outputs": [],
   "source": [
    "mean_df=pd.DataFrame()"
   ]
  },
  {
   "cell_type": "code",
   "execution_count": 8,
   "metadata": {},
   "outputs": [],
   "source": [
    "mean_df['mean']=TS_rpkm.loc[:,['bm03_TS','bm12_TS','bm10_TS']].mean(axis=1)"
   ]
  },
  {
   "cell_type": "code",
   "execution_count": 9,
   "metadata": {},
   "outputs": [],
   "source": [
    "high=mean_df[mean_df['mean']>30]"
   ]
  },
  {
   "cell_type": "code",
   "execution_count": null,
   "metadata": {},
   "outputs": [],
   "source": []
  },
  {
   "cell_type": "code",
   "execution_count": 10,
   "metadata": {},
   "outputs": [],
   "source": [
    "mid=mean_df[(mean_df['mean']<=30) & (mean_df['mean']>5)]"
   ]
  },
  {
   "cell_type": "code",
   "execution_count": 11,
   "metadata": {},
   "outputs": [],
   "source": [
    "low=mean_df[mean_df['mean']<5]"
   ]
  },
  {
   "cell_type": "code",
   "execution_count": 12,
   "metadata": {},
   "outputs": [],
   "source": [
    "high=high.iloc[:,:0]\n",
    "mid=mid.iloc[:,:0]\n",
    "low=low.iloc[:,:0]"
   ]
  },
  {
   "cell_type": "code",
   "execution_count": 13,
   "metadata": {},
   "outputs": [],
   "source": [
    "high=high.join(sub_20).dropna()"
   ]
  },
  {
   "cell_type": "code",
   "execution_count": 14,
   "metadata": {},
   "outputs": [],
   "source": [
    "mid=mid.join(sub_20).dropna()"
   ]
  },
  {
   "cell_type": "code",
   "execution_count": 15,
   "metadata": {},
   "outputs": [],
   "source": [
    "low=low.join(sub_20).dropna()"
   ]
  },
  {
   "cell_type": "code",
   "execution_count": null,
   "metadata": {},
   "outputs": [],
   "source": []
  },
  {
   "cell_type": "code",
   "execution_count": 25,
   "metadata": {},
   "outputs": [],
   "source": [
    "tidy_pc=pd.melt(high,var_name='condition',value_name='percent_change')\n",
    "tidy_pc['background']=tidy_pc['condition'].apply(lambda x:x.split('_')[0])\n",
    "tidy_pc['timepoint']=tidy_pc['condition'].apply(lambda x:x.split('_')[1])\n",
    "tidy_pc['strand']=tidy_pc['condition'].apply(lambda x:x.split('_')[2])"
   ]
  },
  {
   "cell_type": "code",
   "execution_count": 27,
   "metadata": {},
   "outputs": [
    {
     "data": {
      "image/png": "[encoded data removed]",
      "text/plain": [
       "<Figure size 267.84x197.28 with 1 Axes>"
      ]
     },
     "metadata": {},
     "output_type": "display_data"
    }
   ],
   "source": [
    "tenmin=tidy_pc[tidy_pc['timepoint']=='20']\n",
    "#tenmin=tidy_pc[(tidy_pc['background']!='pmfd') & (tidy_pc['timepoint']!='20')]\n",
    "#tenmin=tenmin[(tenmin['background']=='wt-p') | (tenmin['background']=='lexa3')]\n",
    "\n",
    "sns.set_style(\"whitegrid\")\n",
    "plt.figure(figsize=(3.72,2.74))\n",
    "my_pal = {\"TS\": \"#D6F1FD\", \"NTS\": \"#00B1FF\"}\n",
    "ax=sns.boxplot(x='background',y='percent_change',hue='strand',data=tenmin,palette='Oranges',showfliers=False)\n",
    "#sns.stripplot(x='background',y='percent_change',hue='strand',data=tenmin)\n",
    "plt.xlabel(\"\",fontsize=14)\n",
    "plt.ylabel(\"PD in TT-CPDs (20min)\",fontsize=14)\n",
    "plt.legend(fancybox=True,fontsize=12,loc=3)\n",
    "plt.xticks(range(2),['WT','$\\it{Δmfd}$'],fontsize=7)\n",
    "plt.ylim(-0.2,0.9)\n",
    "plt.yticks(np.arange(-0.2, 0.9, 0.2))\n",
    "#plt.title(\"High Transcription(n=904)\")\n",
    "sns.despine(offset=10 )\n",
    "plt.title(\"n=672\",fontsize=14)\n",
    "for label in (ax.get_xticklabels() + ax.get_yticklabels()):\n",
    "    label.set_fontsize(12)\n",
    "#plt.savefig(\"high_transcription_wt_mfd_boxplot.png\",bbox_inches='tight',transparent=True,dpi=600)"
   ]
  },
  {
   "cell_type": "code",
   "execution_count": 19,
   "metadata": {},
   "outputs": [],
   "source": [
    "tidy_pc=pd.melt(mid,var_name='condition',value_name='percent_change')\n",
    "tidy_pc['background']=tidy_pc['condition'].apply(lambda x:x.split('_')[0])\n",
    "tidy_pc['timepoint']=tidy_pc['condition'].apply(lambda x:x.split('_')[1])\n",
    "tidy_pc['strand']=tidy_pc['condition'].apply(lambda x:x.split('_')[2])"
   ]
  },
  {
   "cell_type": "code",
   "execution_count": 21,
   "metadata": {},
   "outputs": [
    {
     "data": {
      "image/png": "[encoded data removed]",
      "text/plain": [
       "<Figure size 267.84x197.28 with 1 Axes>"
      ]
     },
     "metadata": {},
     "output_type": "display_data"
    }
   ],
   "source": [
    "tenmin=tidy_pc[tidy_pc['timepoint']=='20']\n",
    "#tenmin=tenmin[(tenmin['background']=='wt-p') | (tenmin['background']=='lexa3')]\n",
    "#sns.set(font_scale = 2)\n",
    "sns.set_style(\"whitegrid\")\n",
    "plt.figure(figsize=(3.72,2.74))\n",
    "my_pal = {\"TS\": \"#FDFAD6\", \"NTS\": \"#F9EE05\"}\n",
    "ax=sns.boxplot(x='background',y='percent_change',hue='strand',data=tenmin,palette=my_pal,showfliers=False)\n",
    "#sns.stripplot(x='background',y='percent_change',hue='strand',data=tenmin)\n",
    "plt.xlabel(\"\",fontsize=14)\n",
    "plt.ylabel(\"PD in TT-CPDs\",fontsize=14)\n",
    "plt.legend(fancybox=True,fontsize=12,loc=3)\n",
    "plt.xticks(range(2),['WT','$\\it{Δmfd}$'],fontsize=7)\n",
    "plt.ylim(-0.2,0.9)\n",
    "plt.yticks(np.arange(-0.2, 0.9, 0.2))\n",
    "#plt.title(\"Mid Transcription(n=946)\")\n",
    "sns.despine(offset=10 )\n",
    "plt.title(\"n=701\",fontsize=14)\n",
    "for label in (ax.get_xticklabels() + ax.get_yticklabels()):\n",
    "    label.set_fontsize(12)\n",
    "#plt.savefig(\"mid_transcription_wt_mfd_boxplot.png\",bbox_inches='tight',transparent=True,dpi=600)"
   ]
  },
  {
   "cell_type": "code",
   "execution_count": 22,
   "metadata": {},
   "outputs": [],
   "source": [
    "tidy_pc=pd.melt(low,var_name='condition',value_name='percent_change')\n",
    "tidy_pc['background']=tidy_pc['condition'].apply(lambda x:x.split('_')[0])\n",
    "tidy_pc['timepoint']=tidy_pc['condition'].apply(lambda x:x.split('_')[1])\n",
    "tidy_pc['strand']=tidy_pc['condition'].apply(lambda x:x.split('_')[2])"
   ]
  },
  {
   "cell_type": "code",
   "execution_count": 24,
   "metadata": {},
   "outputs": [
    {
     "data": {
      "image/png": "[encoded data removed]",
      "text/plain": [
       "<Figure size 267.84x197.28 with 1 Axes>"
      ]
     },
     "metadata": {},
     "output_type": "display_data"
    }
   ],
   "source": [
    "tenmin=tidy_pc[tidy_pc['timepoint']=='20']\n",
    "#tenmin=tenmin[(tenmin['background']=='wt-p') | (tenmin['background']=='lexa3')]\n",
    "#sns.set(font_scale = 2)\n",
    "sns.set_style(\"whitegrid\")\n",
    "plt.figure(figsize=(3.72,2.74))\n",
    "my_pal = {\"TS\": \"#D6F1FD\", \"NTS\": \"#00B1FF\"}\n",
    "ax=sns.boxplot(x='background',y='percent_change',hue='strand',data=tenmin,palette=my_pal,showfliers=False)\n",
    "#sns.stripplot(x='background',y='percent_change',hue='strand',data=tenmin)\n",
    "plt.xlabel(\"\")\n",
    "plt.ylabel(\"PD in TT-CPDs\",fontsize=14)\n",
    "plt.legend(fancybox=True,fontsize=12,loc=3)\n",
    "plt.xticks(range(2),['WT','$\\it{Δmfd}$'],fontsize=7)\n",
    "plt.ylim(-0.2,0.9)\n",
    "plt.yticks(np.arange(-0.2, 0.9, 0.2))\n",
    "#plt.title(\"Low Transcription(n=1012)\")\n",
    "sns.despine(offset=10)\n",
    "plt.title(\"n=834\",fontsize=14)\n",
    "for label in (ax.get_xticklabels() + ax.get_yticklabels()):\n",
    "    label.set_fontsize(12)\n",
    "#plt.savefig(\"low_transcription_wt_mfd_boxplot.png\",bbox_inches='tight',transparent=True,dpi=600)"
   ]
  },
  {
   "cell_type": "code",
   "execution_count": 79,
   "metadata": {},
   "outputs": [],
   "source": [
    "high_lis=high.sort_values(by='UV mean', ascending=False)"
   ]
  },
  {
   "cell_type": "code",
   "execution_count": 80,
   "metadata": {},
   "outputs": [],
   "source": [
    "high_lis.to_csv('high_transcribed.csv')"
   ]
  },
  {
   "cell_type": "code",
   "execution_count": 84,
   "metadata": {},
   "outputs": [],
   "source": [
    "low_lis=low.sort_values(by='UV mean')"
   ]
  },
  {
   "cell_type": "code",
   "execution_count": 86,
   "metadata": {},
   "outputs": [],
   "source": [
    "low_lis.to_csv('low_transcribed.csv')"
   ]
  },
  {
   "cell_type": "code",
   "execution_count": 7,
   "metadata": {},
   "outputs": [],
   "source": [
    "mean_df.to_csv('mean_rpkm.csv')"
   ]
  },
  {
   "cell_type": "code",
   "execution_count": 77,
   "metadata": {},
   "outputs": [],
   "source": [
    "mid.to_csv('mid_transcribed.csv')"
   ]
  },
  {
   "cell_type": "code",
   "execution_count": null,
   "metadata": {},
   "outputs": [],
   "source": []
  }
 ],
 "metadata": {
  "kernelspec": {
   "display_name": "Python 3",
   "language": "python",
   "name": "python3"
  },
  "language_info": {
   "codemirror_mode": {
    "name": "ipython",
    "version": 3
   },
   "file_extension": ".py",
   "mimetype": "text/x-python",
   "name": "python",
   "nbconvert_exporter": "python",
   "pygments_lexer": "ipython3",
   "version": "3.7.4"
  }
 },
 "nbformat": 4,
 "nbformat_minor": 2
}
